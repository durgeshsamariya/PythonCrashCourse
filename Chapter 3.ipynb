{
 "cells": [
  {
   "cell_type": "markdown",
   "metadata": {},
   "source": [
    "# Chapter 3"
   ]
  },
  {
   "cell_type": "markdown",
   "metadata": {},
   "source": [
    "## Exercise 3-1\n",
    "Names: Store the names of a few of your friends in a list called names. Print each person’s name by accessing each element in the list, one at a time."
   ]
  },
  {
   "cell_type": "code",
   "execution_count": 1,
   "metadata": {
    "ExecuteTime": {
     "end_time": "2020-08-11T15:59:21.333669Z",
     "start_time": "2020-08-11T15:59:21.327895Z"
    }
   },
   "outputs": [
    {
     "name": "stdout",
     "output_type": "stream",
     "text": [
      "durgesh\n",
      "james\n",
      "robert\n",
      "john\n"
     ]
    }
   ],
   "source": [
    "names = ['durgesh', 'james', 'robert', 'john']\n",
    "print(names[0])\n",
    "print(names[1])\n",
    "print(names[2])\n",
    "print(names[3])"
   ]
  },
  {
   "cell_type": "markdown",
   "metadata": {},
   "source": [
    "## Exercise 3-2\n",
    "Greetings: Start with the list you used in Exercise 3-1, but instead of just printing each person’s name, print a message to them. The text of each message should be the same, but each message should be personalized with the person’s name."
   ]
  },
  {
   "cell_type": "code",
   "execution_count": 2,
   "metadata": {
    "ExecuteTime": {
     "end_time": "2020-08-11T15:59:23.046862Z",
     "start_time": "2020-08-11T15:59:23.040251Z"
    }
   },
   "outputs": [
    {
     "name": "stdout",
     "output_type": "stream",
     "text": [
      "Hello Durgesh, How are you today?\n",
      "Hello James, How are you today?\n",
      "Hello Robert, How are you today?\n",
      "Hello John, How are you today?\n"
     ]
    }
   ],
   "source": [
    "names = ['durgesh', 'james', 'robert', 'john']\n",
    "\n",
    "print(\"Hello \" + names[0].title() + \", How are you today?\")\n",
    "print(\"Hello \" + names[1].title() + \", How are you today?\")\n",
    "print(\"Hello \" + names[2].title() + \", How are you today?\")\n",
    "print(\"Hello \" + names[3].title() + \", How are you today?\")"
   ]
  },
  {
   "cell_type": "markdown",
   "metadata": {},
   "source": [
    "## Exercise 3-3\n",
    "Your Own List: Think of your favorite mode of transportation, such as a motorcycle or a car, and make a list that stores several examples. Use your list to print a series of statements about these items, such as “I would like to own a Honda motorcycle.”"
   ]
  },
  {
   "cell_type": "code",
   "execution_count": 3,
   "metadata": {
    "ExecuteTime": {
     "end_time": "2020-08-11T15:59:24.894490Z",
     "start_time": "2020-08-11T15:59:24.888700Z"
    }
   },
   "outputs": [
    {
     "name": "stdout",
     "output_type": "stream",
     "text": [
      "I own Audi Q7. I am planning to buy BMW. My first car was Toyota.\n"
     ]
    }
   ],
   "source": [
    "cars = ['Audi', 'BMW', 'Toyota']\n",
    "\n",
    "print(\"I own \" + cars[0] + \" Q7. I am planning to buy \" + cars[1] + \". My first car was \" + cars[2] + \".\")"
   ]
  },
  {
   "cell_type": "markdown",
   "metadata": {},
   "source": [
    "## Exercise 3-4\n",
    "Guest List: If you could invite anyone, living or deceased, to dinner, who would you invite? Make a list that includes at least three people you’d like to invite to dinner. Then use your list to print a message to each person, inviting them to dinner."
   ]
  },
  {
   "cell_type": "code",
   "execution_count": 4,
   "metadata": {
    "ExecuteTime": {
     "end_time": "2020-08-11T15:59:26.134401Z",
     "start_time": "2020-08-11T15:59:26.126450Z"
    }
   },
   "outputs": [
    {
     "name": "stdout",
     "output_type": "stream",
     "text": [
      "Durgesh invited for dinne.\n",
      "John invited for dinne.\n",
      "Sarah invited for dinne.\n",
      "James invited for dinne.\n"
     ]
    }
   ],
   "source": [
    "guest_list = ['Durgesh', 'John', 'Sarah', 'James']\n",
    "\n",
    "print(guest_list[0] + \" invited for dinne.\")\n",
    "print(guest_list[1] + \" invited for dinne.\")\n",
    "print(guest_list[2] + \" invited for dinne.\")\n",
    "print(guest_list[3] + \" invited for dinne.\")"
   ]
  },
  {
   "cell_type": "markdown",
   "metadata": {},
   "source": [
    "## Exercise 3-5\n",
    "Changing Guest List: You just heard that one of your guests can’t make the dinner, so you need to send out a new set of invitations. You’ll have to think of someone else to invite. • Start with your program from Exercise 3-4. \n",
    "Add a print statement at the end of your program stating the name of the guest who can’t make it. • Modify your list, replacing the name of the guest who can’t make it with the name of the new person you are inviting. • Print a second set of invitation messages, one for each person who is still in your list."
   ]
  },
  {
   "cell_type": "code",
   "execution_count": 5,
   "metadata": {
    "ExecuteTime": {
     "end_time": "2020-08-11T15:59:27.418905Z",
     "start_time": "2020-08-11T15:59:27.409360Z"
    }
   },
   "outputs": [
    {
     "name": "stdout",
     "output_type": "stream",
     "text": [
      "Due to busy schedule Durgesh is unable to come for dinner.\n",
      "Peter is invited for dinner.\n",
      "John is invited for dinner.\n",
      "Sarah is invited for dinner.\n",
      "James is invited for dinner.\n"
     ]
    }
   ],
   "source": [
    "guest_list = ['Durgesh', 'John', 'Sarah', 'James']\n",
    "\n",
    "print(\"Due to busy schedule \" + guest_list[0] + \" is unable to come for dinner.\")\n",
    "\n",
    "guest_list[0] = \"Peter\"\n",
    "\n",
    "print(guest_list[0] + \" is invited for dinner.\")\n",
    "print(guest_list[1] + \" is invited for dinner.\")\n",
    "print(guest_list[2] + \" is invited for dinner.\")\n",
    "print(guest_list[3] + \" is invited for dinner.\")"
   ]
  },
  {
   "cell_type": "markdown",
   "metadata": {},
   "source": [
    "## Exercise 3-6\n",
    "More Guests: You just found a bigger dinner table, so now more space is available. Think of three more guests to invite to dinner. • Start with your program from Exercise 3-4 or Exercise 3-5. Add a print statement to the end of your program informing people that you found a bigger dinner table. • Use insert() to add one new guest to the beginning of your list. • Use insert() to add one new guest to the middle of your list. • Use append() to add one new guest to the end of your list. • Print a new set of invitation messages, one for each person in your list."
   ]
  },
  {
   "cell_type": "code",
   "execution_count": 6,
   "metadata": {
    "ExecuteTime": {
     "end_time": "2020-08-11T15:59:28.608077Z",
     "start_time": "2020-08-11T15:59:28.596974Z"
    }
   },
   "outputs": [
    {
     "name": "stdout",
     "output_type": "stream",
     "text": [
      "I found bigger table for dinner party.\n",
      "Jessica is invited for dinner.\n",
      "Peter is invited for dinner.\n",
      "John is invited for dinner.\n",
      "Luke is invited for dinner.\n",
      "Sarah is invited for dinner.\n",
      "James is invited for dinner.\n",
      "Jonathan is invited for dinner.\n"
     ]
    }
   ],
   "source": [
    "guest_list = ['Peter', 'John', 'Sarah', 'James']\n",
    "\n",
    "print(\"I found bigger table for dinner party.\")\n",
    "\n",
    "guest_list.insert(0, 'Jessica')\n",
    "guest_list.insert(3, 'Luke')\n",
    "guest_list.append('Jonathan')\n",
    "\n",
    "print(guest_list[0] + \" is invited for dinner.\")\n",
    "print(guest_list[1] + \" is invited for dinner.\")\n",
    "print(guest_list[2] + \" is invited for dinner.\")\n",
    "print(guest_list[3] + \" is invited for dinner.\")\n",
    "print(guest_list[4] + \" is invited for dinner.\")\n",
    "print(guest_list[5] + \" is invited for dinner.\")\n",
    "print(guest_list[6] + \" is invited for dinner.\")"
   ]
  },
  {
   "cell_type": "markdown",
   "metadata": {},
   "source": [
    "## Exercise 3-7\n",
    "Shrinking Guest List: You just found out that your new dinner table won’t arrive in time for the dinner, and you have space for only two guests. • Start with your program from Exercise 3-6. Add a new line that prints a message saying that you can invite only two people for dinner. • Use pop() to remove guests from your list one at a time until only two names remain in your list. Each time you pop a name from your list, print a message to that person letting them know you’re sorry you can’t invite them to dinner. • Print a message to each of the two people still on your list, letting them know they’re still invited. • Use del to remove the last two names from your list, so you have an empty list. Print your list to make sure you actually have an empty list at the end of your program."
   ]
  },
  {
   "cell_type": "code",
   "execution_count": 7,
   "metadata": {
    "ExecuteTime": {
     "end_time": "2020-08-11T15:59:30.433548Z",
     "start_time": "2020-08-11T15:59:30.422614Z"
    }
   },
   "outputs": [
    {
     "name": "stdout",
     "output_type": "stream",
     "text": [
      "Due to table issue I am only inviting 2 people.\n",
      "Sorry Jonathan for not inviting you for dinner.\n",
      "Sorry James for not inviting you for dinner.\n",
      "Sorry Sarah for not inviting you for dinner.\n",
      "Sorry Luke for not inviting you for dinner.\n",
      "Sorry John for not inviting you for dinner.\n",
      "Jessica, you are still invited for dinner.\n",
      "Peter, you are still invited for dinner.\n",
      "[]\n"
     ]
    }
   ],
   "source": [
    "guest_list = ['Jessica','Peter', 'John', 'Luke', 'Sarah', 'James', 'Jonathan']\n",
    "\n",
    "print('Due to table issue I am only inviting 2 people.')\n",
    "\n",
    "uninvited_guest = guest_list.pop()\n",
    "print(\"Sorry \" + uninvited_guest.title() + \" for not inviting you for dinner.\")\n",
    "\n",
    "uninvited_guest = guest_list.pop()\n",
    "print(\"Sorry \" + uninvited_guest.title() + \" for not inviting you for dinner.\")\n",
    "\n",
    "uninvited_guest = guest_list.pop()\n",
    "print(\"Sorry \" + uninvited_guest.title() + \" for not inviting you for dinner.\")\n",
    "\n",
    "uninvited_guest = guest_list.pop()\n",
    "print(\"Sorry \" + uninvited_guest.title() + \" for not inviting you for dinner.\")\n",
    "\n",
    "uninvited_guest = guest_list.pop()\n",
    "print(\"Sorry \" + uninvited_guest.title() + \" for not inviting you for dinner.\")\n",
    "\n",
    "print(guest_list[0] + \", you are still invited for dinner.\")\n",
    "print(guest_list[1] + \", you are still invited for dinner.\")\n",
    "\n",
    "del guest_list[0] # removing first name from the list\n",
    "del guest_list[0] # after removing first name from the list, second name become first name so removing from 0 index.\n",
    "\n",
    "print(guest_list)"
   ]
  },
  {
   "cell_type": "markdown",
   "metadata": {},
   "source": [
    "## Exercise 3-8\n",
    "Seeing the World: Think of at least five places in the world you’d like to visit. • Store the locations in a list. Make sure the list is not in alphabetical order. • Print your list in its original order. Don’t worry about printing the list neatly, just print it as a raw Python list. • Use sorted() to print your list in alphabetical order without modifying the actual list. • Show that your list is still in its original order by printing it. • Use sorted() to print your list in reverse alphabetical order without changing the order of the original list. • Show that your list is still in its original order by printing it again. • Use reverse() to change the order of your list. Print the list to show that its order has changed. • Use reverse() to change the order of your list again. Print the list to show it’s back to its original order. • Use sort() to change your list so it’s stored in alphabetical order. Print the list to show that its order has been changed. • Use sort() to change your list so it’s stored in reverse alphabetical order. Print the list to show that its order has changed."
   ]
  },
  {
   "cell_type": "code",
   "execution_count": 8,
   "metadata": {
    "ExecuteTime": {
     "end_time": "2020-08-11T15:59:33.318610Z",
     "start_time": "2020-08-11T15:59:33.305385Z"
    }
   },
   "outputs": [
    {
     "name": "stdout",
     "output_type": "stream",
     "text": [
      "['Melbourne', 'Sydney', 'India', 'Greece', 'London']\n",
      "['Greece', 'India', 'London', 'Melbourne', 'Sydney']\n",
      "['Melbourne', 'Sydney', 'India', 'Greece', 'London']\n",
      "['Sydney', 'Melbourne', 'London', 'India', 'Greece']\n",
      "['Melbourne', 'Sydney', 'India', 'Greece', 'London']\n",
      "['London', 'Greece', 'India', 'Sydney', 'Melbourne']\n",
      "['Melbourne', 'Sydney', 'India', 'Greece', 'London']\n",
      "['Greece', 'India', 'London', 'Melbourne', 'Sydney']\n",
      "['Sydney', 'Melbourne', 'London', 'India', 'Greece']\n"
     ]
    }
   ],
   "source": [
    "place_to_visit = ['Melbourne', 'Sydney', 'India', 'Greece', 'London']\n",
    "print(place_to_visit)\n",
    "\n",
    "print(sorted(place_to_visit))\n",
    "\n",
    "print(place_to_visit)\n",
    "\n",
    "print(sorted(place_to_visit, reverse=True))\n",
    "\n",
    "print(place_to_visit)\n",
    "\n",
    "place_to_visit.reverse()\n",
    "print(place_to_visit)\n",
    "\n",
    "place_to_visit.reverse()\n",
    "print(place_to_visit)\n",
    "\n",
    "place_to_visit.sort()\n",
    "print(place_to_visit)\n",
    "\n",
    "place_to_visit.sort(reverse=True)\n",
    "print(place_to_visit)"
   ]
  },
  {
   "cell_type": "markdown",
   "metadata": {},
   "source": [
    "## Exercise 3-9\n",
    "Dinner Guests: Working with one of the programs from Exercises 3-4 through 3-7 (page 46), use len() to print a message indicating the number of people you are inviting to dinner."
   ]
  },
  {
   "cell_type": "code",
   "execution_count": 9,
   "metadata": {
    "ExecuteTime": {
     "end_time": "2020-08-11T15:59:34.924742Z",
     "start_time": "2020-08-11T15:59:34.919199Z"
    }
   },
   "outputs": [
    {
     "name": "stdout",
     "output_type": "stream",
     "text": [
      "I am inviting 7 guests for my dinner party.\n"
     ]
    }
   ],
   "source": [
    "guest_list = ['Jessica','Peter', 'John', 'Luke', 'Sarah', 'James', 'Jonathan']\n",
    "\n",
    "print(\"I am inviting \" + str(len(guest_list)) + \" guests for my dinner party.\")"
   ]
  },
  {
   "cell_type": "markdown",
   "metadata": {},
   "source": [
    "## Exercise 3-10\n",
    "Every Function: Think of something you could store in a list. For example, you could make a list of mountains, rivers, countries, cities, languages, or anything else you’d like. Write a program that creates a list containing these items and then uses each function introduced in this chapter at least once."
   ]
  },
  {
   "cell_type": "code",
   "execution_count": 10,
   "metadata": {
    "ExecuteTime": {
     "end_time": "2020-08-11T15:59:37.123021Z",
     "start_time": "2020-08-11T15:59:37.110299Z"
    }
   },
   "outputs": [
    {
     "name": "stdout",
     "output_type": "stream",
     "text": [
      "\n",
      " Original list:\n",
      "['US', 'UK', 'India', 'Australia', 'China', 'Japan']\n",
      "\n",
      " Modified list:\n",
      "['US', 'UK', 'India', 'Australia', 'China', 'Korea']\n",
      "\n",
      " After adding elements in list:\n",
      "['Singapore', 'US', 'UK', 'India', 'Australia', 'China', 'Korea', 'Japan']\n",
      "\n",
      " After deleting elements from list:\n",
      "['Singapore', 'UK', 'India', 'Australia', 'Korea']\n",
      "\n",
      " Sorted list :\n",
      "['Australia', 'India', 'Korea', 'Singapore', 'UK']\n",
      "\n",
      " Reverse sorted list :\n",
      "['UK', 'Singapore', 'Korea', 'India', 'Australia']\n",
      "\n",
      " Total countries in the list is 5\n"
     ]
    }
   ],
   "source": [
    "#list of countries\n",
    "countries = ['US', 'UK', 'India', 'Australia', 'China', 'Japan']\n",
    "\n",
    "#print list\n",
    "print(\"\\n Original list:\")\n",
    "print(countries)\n",
    "\n",
    "#Modifying List\n",
    "countries[5] = 'Korea'\n",
    "\n",
    "print(\"\\n Modified list:\")\n",
    "print(countries)\n",
    "\n",
    "#append\n",
    "countries.append('Japan')\n",
    "\n",
    "#insert\n",
    "countries.insert(0, 'Singapore')\n",
    "\n",
    "print(\"\\n After adding elements in list:\")\n",
    "print(countries)\n",
    "\n",
    "#removing element\n",
    "del countries[1]\n",
    "countries.pop()\n",
    "countries.remove('China')\n",
    "\n",
    "\n",
    "print(\"\\n After deleting elements from list:\")\n",
    "print(countries)\n",
    "\n",
    "print(\"\\n Sorted list :\")\n",
    "countries.sort()\n",
    "print(countries)\n",
    "\n",
    "print(\"\\n Reverse sorted list :\")\n",
    "countries.sort(reverse=True)\n",
    "print(countries)\n",
    "\n",
    "print(\"\\n Total countries in the list is \" + str(len(countries)))"
   ]
  },
  {
   "cell_type": "markdown",
   "metadata": {},
   "source": [
    "## Exercise 3-11\n",
    "Intentional Error: If you haven’t received an index error in one of your programs yet, try to make one happen. Change an index in one of your programs to produce an index error. Make sure you correct the error before closing the program."
   ]
  },
  {
   "cell_type": "code",
   "execution_count": 11,
   "metadata": {
    "ExecuteTime": {
     "end_time": "2020-08-11T15:59:39.755228Z",
     "start_time": "2020-08-11T15:59:39.591356Z"
    }
   },
   "outputs": [
    {
     "ename": "IndexError",
     "evalue": "list index out of range",
     "output_type": "error",
     "traceback": [
      "\u001b[0;31m---------------------------------------------------------------------------\u001b[0m",
      "\u001b[0;31mIndexError\u001b[0m                                Traceback (most recent call last)",
      "\u001b[0;32m<ipython-input-11-9832392d724d>\u001b[0m in \u001b[0;36m<module>\u001b[0;34m\u001b[0m\n\u001b[1;32m      1\u001b[0m \u001b[0mlist\u001b[0m \u001b[0;34m=\u001b[0m \u001b[0;34m[\u001b[0m\u001b[0;36m1\u001b[0m\u001b[0;34m,\u001b[0m \u001b[0;36m2\u001b[0m\u001b[0;34m,\u001b[0m \u001b[0;36m3\u001b[0m\u001b[0;34m]\u001b[0m\u001b[0;34m\u001b[0m\u001b[0;34m\u001b[0m\u001b[0m\n\u001b[0;32m----> 2\u001b[0;31m \u001b[0mprint\u001b[0m\u001b[0;34m(\u001b[0m\u001b[0mlist\u001b[0m\u001b[0;34m[\u001b[0m\u001b[0;36m3\u001b[0m\u001b[0;34m]\u001b[0m\u001b[0;34m)\u001b[0m \u001b[0;31m# intentional error\u001b[0m\u001b[0;34m\u001b[0m\u001b[0;34m\u001b[0m\u001b[0m\n\u001b[0m",
      "\u001b[0;31mIndexError\u001b[0m: list index out of range"
     ]
    }
   ],
   "source": [
    "list = [1, 2, 3]\n",
    "print(list[3]) # intentional error"
   ]
  }
 ],
 "metadata": {
  "kernelspec": {
   "display_name": "Python 3",
   "language": "python",
   "name": "python3"
  },
  "language_info": {
   "codemirror_mode": {
    "name": "ipython",
    "version": 3
   },
   "file_extension": ".py",
   "mimetype": "text/x-python",
   "name": "python",
   "nbconvert_exporter": "python",
   "pygments_lexer": "ipython3",
   "version": "3.8.4"
  },
  "latex_envs": {
   "LaTeX_envs_menu_present": true,
   "autoclose": false,
   "autocomplete": true,
   "bibliofile": "biblio.bib",
   "cite_by": "apalike",
   "current_citInitial": 1,
   "eqLabelWithNumbers": true,
   "eqNumInitial": 1,
   "hotkeys": {
    "equation": "Ctrl-E",
    "itemize": "Ctrl-I"
   },
   "labels_anchors": false,
   "latex_user_defs": false,
   "report_style_numbering": false,
   "user_envs_cfg": false
  },
  "toc": {
   "base_numbering": 1,
   "nav_menu": {},
   "number_sections": true,
   "sideBar": true,
   "skip_h1_title": false,
   "title_cell": "Table of Contents",
   "title_sidebar": "Contents",
   "toc_cell": false,
   "toc_position": {},
   "toc_section_display": true,
   "toc_window_display": false
  },
  "varInspector": {
   "cols": {
    "lenName": 16,
    "lenType": 16,
    "lenVar": 40
   },
   "kernels_config": {
    "python": {
     "delete_cmd_postfix": "",
     "delete_cmd_prefix": "del ",
     "library": "var_list.py",
     "varRefreshCmd": "print(var_dic_list())"
    },
    "r": {
     "delete_cmd_postfix": ") ",
     "delete_cmd_prefix": "rm(",
     "library": "var_list.r",
     "varRefreshCmd": "cat(var_dic_list()) "
    }
   },
   "types_to_exclude": [
    "module",
    "function",
    "builtin_function_or_method",
    "instance",
    "_Feature"
   ],
   "window_display": false
  }
 },
 "nbformat": 4,
 "nbformat_minor": 4
}
