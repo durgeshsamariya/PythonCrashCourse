{
 "cells": [
  {
   "cell_type": "markdown",
   "metadata": {},
   "source": [
    "# Chapter 6"
   ]
  },
  {
   "cell_type": "markdown",
   "metadata": {},
   "source": [
    "## Exercise 6-1\n",
    "Person: Use a dictionary to store information about a person you know. Store their first name, last name, age, and the city in which they live. You should have keys such as first_name, last_name, age, and city. Print each piece of information stored in your dictionary."
   ]
  },
  {
   "cell_type": "code",
   "execution_count": null,
   "metadata": {},
   "outputs": [],
   "source": [
    "person = {\n",
    "    'first_name': 'First Name',\n",
    "    'last_name': 'Last Name',\n",
    "    'age': 20,\n",
    "    'city': 'City'\n",
    "}\n",
    "\n",
    "for key,value in person.items():\n",
    "    print(key)\n",
    "    print(value)"
   ]
  },
  {
   "cell_type": "markdown",
   "metadata": {},
   "source": [
    "## Exercise 6-2 \n",
    "Favorite Numbers: Use a dictionary to store people’s favorite numbers. Think of five names, and use them as keys in your dictionary. Think of a favorite number for each person, and store each as a value in your dictionary. Print each person’s name and their favorite number. For even more fun, poll a few friends and get some actual data for your program."
   ]
  },
  {
   "cell_type": "code",
   "execution_count": 3,
   "metadata": {
    "ExecuteTime": {
     "end_time": "2020-08-11T16:35:04.625011Z",
     "start_time": "2020-08-11T16:35:04.599957Z"
    }
   },
   "outputs": [
    {
     "name": "stdout",
     "output_type": "stream",
     "text": [
      "person1\n",
      "20\n",
      "person2\n",
      "10\n",
      "person3\n",
      "24\n",
      "person4\n",
      "7\n",
      "person5\n",
      "11\n"
     ]
    }
   ],
   "source": [
    "numbers = {\n",
    "    'person1' : 20,\n",
    "    'person2' : 10,\n",
    "    'person3' : 24,\n",
    "    'person4' : 7,\n",
    "    'person5' : 11\n",
    "}\n",
    "\n",
    "for key,value in numbers.items():\n",
    "    print(key)\n",
    "    print(value)"
   ]
  },
  {
   "cell_type": "markdown",
   "metadata": {},
   "source": [
    "## Exercise 6-3\n",
    "Glossary: A Python dictionary can be used to model an actual dictionary. \n",
    "However, to avoid confusion, let’s call it a glossary. Think of five programming words you’ve learned about in the previous chapters. Use these words as the keys in your glossary, and store their meanings as values. \n",
    "Print each word and its meaning as neatly formatted output. You might print the word followed by a colon and then its meaning, or print the word on one line and then print its meaning indented on a second line. Use the newline character (\\n) to insert a blank line between each word-meaning pair in your output."
   ]
  },
  {
   "cell_type": "code",
   "execution_count": 2,
   "metadata": {
    "ExecuteTime": {
     "end_time": "2020-08-11T16:34:03.109703Z",
     "start_time": "2020-08-11T16:34:03.089694Z"
    }
   },
   "outputs": [
    {
     "name": "stdout",
     "output_type": "stream",
     "text": [
      "\n",
      "\n",
      "print\n",
      "it print messages\n",
      "\n",
      "\n",
      "list\n",
      "data collection\n",
      "\n",
      "\n",
      "string\n",
      "collection of characters\n",
      "\n",
      "\n",
      "int\n",
      "numbers with out decimal point\n",
      "\n",
      "\n",
      "float\n",
      "number with decimal point\n"
     ]
    }
   ],
   "source": [
    "glossary = {\n",
    "    'print':'it print messages',\n",
    "    'list':'data collection',\n",
    "    'string':'collection of characters',\n",
    "    'int':'numbers with out decimal point',\n",
    "    'float':'number with decimal point'\n",
    "}\n",
    "\n",
    "for key, value in glossary.items():\n",
    "    print(\"\\n\")\n",
    "    print(key)\n",
    "    print(value)"
   ]
  },
  {
   "cell_type": "markdown",
   "metadata": {},
   "source": [
    "## Exercise 6-4\n",
    "Glossary 2: Now that you know how to loop through a dictionary, clean up the code from Exercise 6-3 (page 102) by replacing your series of print statements with a loop that runs through the dictionary’s keys and values. \n",
    "when you’re sure that your loop works, add five more Python terms to your glossary. When you run your program again, these new words and meanings should automatically be included in the output."
   ]
  },
  {
   "cell_type": "code",
   "execution_count": 1,
   "metadata": {
    "ExecuteTime": {
     "end_time": "2020-08-11T16:32:39.943319Z",
     "start_time": "2020-08-11T16:32:39.901478Z"
    }
   },
   "outputs": [
    {
     "name": "stdout",
     "output_type": "stream",
     "text": [
      "\n",
      "\n",
      "print\n",
      "it print messages\n",
      "\n",
      "\n",
      "list\n",
      "data collection\n",
      "\n",
      "\n",
      "string\n",
      "collection of characters\n",
      "\n",
      "\n",
      "int\n",
      "numbers with out decimal point\n",
      "\n",
      "\n",
      "float\n",
      "number with decimal point\n",
      "\n",
      "\n",
      "print\n",
      "it print messages\n",
      "\n",
      "\n",
      "list\n",
      "data collection\n",
      "\n",
      "\n",
      "string\n",
      "collection of characters\n",
      "\n",
      "\n",
      "int\n",
      "numbers with out decimal point\n",
      "\n",
      "\n",
      "float\n",
      "number with decimal point\n",
      "\n",
      "\n",
      "strip\n",
      "remove white space from both side of string\n",
      "\n",
      "\n",
      "lstrip\n",
      "remove white space from left side of string\n",
      "\n",
      "\n",
      "rstrip\n",
      "remove white space from right side of string\n",
      "\n",
      "\n",
      "range\n",
      "create squance of the number\n",
      "\n",
      "\n",
      "append\n",
      "add item in list\n"
     ]
    }
   ],
   "source": [
    "glossary = {\n",
    "    'print':'it print messages',\n",
    "    'list':'data collection',\n",
    "    'string':'collection of characters',\n",
    "    'int':'numbers with out decimal point',\n",
    "    'float':'number with decimal point'\n",
    "}\n",
    "\n",
    "for key, value in glossary.items():\n",
    "    print(\"\\n\")\n",
    "    print(key)\n",
    "    print(value)\n",
    "\n",
    "glossary['strip'] = 'remove white space from both side of string'\n",
    "glossary['lstrip'] = 'remove white space from left side of string'\n",
    "glossary['rstrip'] = 'remove white space from right side of string'\n",
    "glossary['range'] = 'create squance of the number'\n",
    "glossary['append'] = 'add item in list'\n",
    "\n",
    "for key, value in glossary.items():\n",
    "    print(\"\\n\")\n",
    "    print(key)\n",
    "    print(value)"
   ]
  },
  {
   "cell_type": "markdown",
   "metadata": {},
   "source": [
    "## Exercise 6-5\n",
    "Rivers: Make a dictionary containing three major rivers and the country each river runs through. One key-value pair might be 'nile': 'egypt'. • Use a loop to print a sentence about each river, such as The Nile runs through Egypt. • Use a loop to print the name of each river included in the dictionary. • Use a loop to print the name of each country included in the dictionary."
   ]
  },
  {
   "cell_type": "code",
   "execution_count": null,
   "metadata": {},
   "outputs": [],
   "source": []
  }
 ],
 "metadata": {
  "kernelspec": {
   "display_name": "Python 3",
   "language": "python",
   "name": "python3"
  },
  "language_info": {
   "codemirror_mode": {
    "name": "ipython",
    "version": 3
   },
   "file_extension": ".py",
   "mimetype": "text/x-python",
   "name": "python",
   "nbconvert_exporter": "python",
   "pygments_lexer": "ipython3",
   "version": "3.8.4"
  },
  "latex_envs": {
   "LaTeX_envs_menu_present": true,
   "autoclose": false,
   "autocomplete": true,
   "bibliofile": "biblio.bib",
   "cite_by": "apalike",
   "current_citInitial": 1,
   "eqLabelWithNumbers": true,
   "eqNumInitial": 1,
   "hotkeys": {
    "equation": "Ctrl-E",
    "itemize": "Ctrl-I"
   },
   "labels_anchors": false,
   "latex_user_defs": false,
   "report_style_numbering": false,
   "user_envs_cfg": false
  },
  "toc": {
   "base_numbering": 1,
   "nav_menu": {},
   "number_sections": true,
   "sideBar": true,
   "skip_h1_title": false,
   "title_cell": "Table of Contents",
   "title_sidebar": "Contents",
   "toc_cell": false,
   "toc_position": {},
   "toc_section_display": true,
   "toc_window_display": false
  },
  "varInspector": {
   "cols": {
    "lenName": 16,
    "lenType": 16,
    "lenVar": 40
   },
   "kernels_config": {
    "python": {
     "delete_cmd_postfix": "",
     "delete_cmd_prefix": "del ",
     "library": "var_list.py",
     "varRefreshCmd": "print(var_dic_list())"
    },
    "r": {
     "delete_cmd_postfix": ") ",
     "delete_cmd_prefix": "rm(",
     "library": "var_list.r",
     "varRefreshCmd": "cat(var_dic_list()) "
    }
   },
   "types_to_exclude": [
    "module",
    "function",
    "builtin_function_or_method",
    "instance",
    "_Feature"
   ],
   "window_display": false
  }
 },
 "nbformat": 4,
 "nbformat_minor": 4
}
